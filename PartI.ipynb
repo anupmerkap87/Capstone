{
 "cells": [
  {
   "cell_type": "markdown",
   "id": "f8e1c8b5",
   "metadata": {},
   "source": [
    "\n",
    "#Introduction\n",
    "\n",
    "***\n",
    "<b>Background</b>\n",
    "***\n",
    "\n",
    "Mental disorder incidence is increasing rapidly over the past 2 decades[1] with global depression diagnosed patients reaching 322M as of 2015. Major Depressive Disorder (MDD) has become a leading contributor to the global burden of disease. However, it is diagnosed through a series of interviews carried out by Psychiatrists and Psychologists. The process is not only labor-consuming but also time-consuming. The result of depression diagnosis is also not as convincing as some other illness, such as hypertension and heart disease, due to its lack of physiological indicators. Not to mention, most countries are suffering from a lack of psychiatrically and physiological doctors, especially the less developed countries. All these reasons are causing the global population to still widely undiagnosed and untreated for\n",
    "their mental health disorders. \n",
    "\n",
    "With the rising of tools such as data mining and artificial intelligence, using\n",
    "physiological data to explore new possible physiological indicators of mental disorder and creating new applications for mental disorder diagnosis has become a new research hot topic. Electroencephalography (EEG), as a non-invasive physiological data, provides a direct measure of postsynaptic potentials with millisecond temporal resolution. Since mental disorders, such as depression, are complex brain cognitive disfunction, EEG is naturally the common data that are favored by the researchers. \n",
    "\n",
    "While our blog post details prior analysis in this area, our capstone project presents a multi-modal open dataset for mental-disorder analysis. The dataset includes data mainly from clinically depressed patients and matching normal controls. All patients were carefully diagnosed and selected by professional psychiatrists in hospitals. For more details, please refer to our blog post. The EEG dataset includes data collected using traditional 128-electrodes mounted elastic cap. The 128-electrodes EEG signals of 53 subjects were recorded as both in resting state and under stimulation. Detail descriptions of each sub-dataset are listed accordingly in the following section\n",
    "\n",
    "The main objective for this Capstone project are -\n",
    "\n",
    "1. Traditional research on the EEG waveforms were done through MATLAB. We will first have to implement all the functions of MATLAB through native Python librarires like <b>MNE, SCIPY, STATSMODEL</b>\n",
    "2. Build detailed <b>feature engineering</b> for Resting and simulated information (we refer to this as ERP). Here we will try extracting Linear Features (directly extracted from the waveform with minimal manipulation), Non-Linear Features (entropy / energy related variables)\n",
    "3. Building Classification model that can further differentiate between patients and normal population\n",
    "\n",
    "It is worth noting that the data that we procured is 58 sets of Patient level data for both Resting and ERP. This means, we will have to hand pick each EEG dataset for Resting and ERP followed by processing them for feature extraction\n",
    "\n",
    "***\n",
    "About the Notebook\n",
    "***\n",
    "\n",
    "We will rely on the research that is already available in this field (refer blog post for more details) on some of the choices that we make over the process\n",
    "\n",
    "Flow of this notebook -\n",
    "1. <b>Pre-requisites:</b> Install all the requirements and import libraries needed\n",
    "2. <b>Utility functions</b>: This section explains the EEG signal extraction - Some perspectives on how we are creating linear and non-linear features\n",
    "3. <b>Data Cleansing</b>: Creating a unified dataframe for all the patients in one place\n",
    "4. <b>Data Manipulation</b>: Few univariate and bivariate summaries to help us in feature reduction\n",
    "5. <b>Model development</b>: Develop model at various decision points\n",
    "6. <b>Explainability</b>: Results and how the model performs for demographic population"
   ]
  },
  {
   "cell_type": "markdown",
   "id": "6ee000a8",
   "metadata": {},
   "source": [
    "# Pre Requisites\n",
    "\n",
    "As described in the introduction dataset, we will need to translate the algorithms/ feature extraction steps implemented in MATLAB to Python. Fortunately, MNE Library implements most of the common feature engineering steps. Along with MNE, we utilized packages in Statsmodel.\n",
    "\n",
    "Few details on MNE: MNE is considered to Pandas for health care / wearables data. It has interesting functions to extract multi modal features - We invested 2 weeks of our Capstone time on the MNE Tutorials to learn various ways of handling the EEG waveform. While the notebook skims through the best structure of the code that we can bring here, there are series of experimentations that went in the background to attain state that we are in right now"
   ]
  },
  {
   "cell_type": "code",
   "execution_count": 24,
   "id": "4983b299",
   "metadata": {},
   "outputs": [
    {
     "name": "stdout",
     "output_type": "stream",
     "text": [
      "Collecting mne\n",
      "  Downloading mne-0.23.4-py3-none-any.whl (6.9 MB)\n",
      "     |████████████████████████████████| 6.9 MB 4.2 MB/s            \n",
      "\u001b[?25hRequirement already satisfied: scipy>=1.1.0 in /home/ec2-user/anaconda3/envs/python3/lib/python3.6/site-packages (from mne) (1.5.3)\n",
      "Requirement already satisfied: numpy>=1.15.4 in /home/ec2-user/anaconda3/envs/python3/lib/python3.6/site-packages (from mne) (1.19.5)\n",
      "Installing collected packages: mne\n",
      "Successfully installed mne-0.23.4\n"
     ]
    }
   ],
   "source": [
    "!pip install mne"
   ]
  },
  {
   "cell_type": "code",
   "execution_count": 25,
   "id": "4ff8ca59",
   "metadata": {},
   "outputs": [
    {
     "name": "stdout",
     "output_type": "stream",
     "text": [
      "Collecting antropy\n",
      "  Downloading antropy-0.1.4.tar.gz (16 kB)\n",
      "  Preparing metadata (setup.py) ... \u001b[?25ldone\n",
      "\u001b[?25hCollecting stochastic\n",
      "  Downloading stochastic-0.6.0-py3-none-any.whl (49 kB)\n",
      "     |████████████████████████████████| 49 kB 3.0 MB/s            \n",
      "\u001b[?25hRequirement already satisfied: scipy<2.0,>=1.3 in /home/ec2-user/anaconda3/envs/python3/lib/python3.6/site-packages (from stochastic->antropy) (1.5.3)\n",
      "Requirement already satisfied: numpy<2.0,>=1.17 in /home/ec2-user/anaconda3/envs/python3/lib/python3.6/site-packages (from stochastic->antropy) (1.19.5)\n",
      "Building wheels for collected packages: antropy\n",
      "  Building wheel for antropy (setup.py) ... \u001b[?25ldone\n",
      "\u001b[?25h  Created wheel for antropy: filename=antropy-0.1.4-py3-none-any.whl size=16144 sha256=79bc141bbc7043ca934e943d7551b8674107b7a838b585e46e30d806d8ab402e\n",
      "  Stored in directory: /home/ec2-user/.cache/pip/wheels/54/83/26/27beb8614ccbd443881113c4cf077b5b7df4cac5d6793cf4d5\n",
      "Successfully built antropy\n",
      "Installing collected packages: stochastic, antropy\n",
      "Successfully installed antropy-0.1.4 stochastic-0.6.0\n"
     ]
    }
   ],
   "source": [
    "!pip install antropy"
   ]
  },
  {
   "cell_type": "code",
   "execution_count": 26,
   "id": "d5fcbe8c",
   "metadata": {},
   "outputs": [
    {
     "name": "stdout",
     "output_type": "stream",
     "text": [
      "Requirement already satisfied: matplotlib in /home/ec2-user/anaconda3/envs/python3/lib/python3.6/site-packages (3.3.4)\n",
      "Requirement already satisfied: numpy>=1.15 in /home/ec2-user/anaconda3/envs/python3/lib/python3.6/site-packages (from matplotlib) (1.19.5)\n",
      "Requirement already satisfied: cycler>=0.10 in /home/ec2-user/anaconda3/envs/python3/lib/python3.6/site-packages (from matplotlib) (0.10.0)\n",
      "Requirement already satisfied: python-dateutil>=2.1 in /home/ec2-user/anaconda3/envs/python3/lib/python3.6/site-packages (from matplotlib) (2.8.1)\n",
      "Requirement already satisfied: pyparsing!=2.0.4,!=2.1.2,!=2.1.6,>=2.0.3 in /home/ec2-user/anaconda3/envs/python3/lib/python3.6/site-packages (from matplotlib) (2.4.7)\n",
      "Requirement already satisfied: pillow>=6.2.0 in /home/ec2-user/anaconda3/envs/python3/lib/python3.6/site-packages (from matplotlib) (8.4.0)\n",
      "Requirement already satisfied: kiwisolver>=1.0.1 in /home/ec2-user/anaconda3/envs/python3/lib/python3.6/site-packages (from matplotlib) (1.3.1)\n",
      "Requirement already satisfied: six in /home/ec2-user/anaconda3/envs/python3/lib/python3.6/site-packages (from cycler>=0.10->matplotlib) (1.15.0)\n",
      "Note: you may need to restart the kernel to use updated packages.\n"
     ]
    }
   ],
   "source": [
    "pip install matplotlib"
   ]
  },
  {
   "cell_type": "code",
   "execution_count": 28,
   "id": "514bfe40",
   "metadata": {},
   "outputs": [],
   "source": [
    "#Libraries helping with file retrival\n",
    "import os\n",
    "from os import listdir\n",
    "from os.path import isfile, join\n",
    "\n",
    "#Visualization and data manipulation libraries\n",
    "import matplotlib.pyplot as plt\n",
    "import scipy.io\n",
    "from scipy.signal import butter, lfilter\n",
    "import mne\n",
    "import pandas as pd\n",
    "import numpy as np\n",
    "import antropy as ant\n",
    "import seaborn as sns\n",
    "sns.set(font_scale=1.2)\n",
    "\n",
    "#Model development and understanding\n",
    "from sklearn.ensemble import RandomForestClassifier as rf\n",
    "from sklearn.linear_model import LogisticRegression as lr\n",
    "from sklearn.neighbors import KNeighborsClassifier as KNN\n",
    "from sklearn.svm import SVC\n",
    "from sklearn.metrics import confusion_matrix,accuracy_score,precision_score,recall_score"
   ]
  },
  {
   "cell_type": "code",
   "execution_count": 29,
   "id": "b91396c0",
   "metadata": {},
   "outputs": [],
   "source": [
    "SMALL_SIZE = 8\n",
    "MEDIUM_SIZE = 10\n",
    "BIGGER_SIZE = 12\n",
    "\n",
    "plt.rc('font', size=SMALL_SIZE)          # controls default text sizes\n",
    "plt.rc('axes', titlesize=SMALL_SIZE)     # fontsize of the axes title\n",
    "plt.rc('axes', labelsize=MEDIUM_SIZE)    # fontsize of the x and y labels\n",
    "plt.rc('xtick', labelsize=SMALL_SIZE)    # fontsize of the tick labels\n",
    "plt.rc('ytick', labelsize=SMALL_SIZE)    # fontsize of the tick labels\n",
    "plt.rc('legend', fontsize=SMALL_SIZE)    # legend fontsize\n",
    "plt.rc('figure', titlesize=BIGGER_SIZE)  # fontsize of the figure title"
   ]
  },
  {
   "cell_type": "markdown",
   "id": "47dab759",
   "metadata": {},
   "source": [
    "# Utility Function\n",
    "\n",
    "Across this section, we first walk you through the various utility functions. To help understanding these utility functions, we will take one patient's EEG waveform and explain through the process\n",
    "\n",
    "## Background\n",
    "\n",
    "A typical EEG device has a series of electrodes. The electrodes are placed on the scalp of the patient - These electrodes then extract voltage - Which are then encoded as signal data. for example, if there are n electrodes, each electrode will generate a time series of voltage values. The voltage values from one position to other position in the brain varies. The aim of our capstone exercise is to find those distingushing features and build a classification model\n",
    "\n",
    "We now understand the electrodes. Now these electrodes have to work under some sampling frequency. To keep it simple, the number of datapoints that we gather per second. Hence for n electrode if the sampling freqency is s, we will get n*s data points per second\n",
    "\n",
    "The experiment set-up that we have is done in two forms -\n",
    "1. Resting - The files are present in .mat format\n",
    "2. Simulated activity - The files are present in .raw format\n",
    "\n",
    "The system that was used to generate these signal is 128 Channel HydroCelGSN. An electrode location file was shared by the research team - However, we found it easy to use MNE's in built packages to process the files. "
   ]
  },
  {
   "cell_type": "markdown",
   "id": "4f8572f3",
   "metadata": {},
   "source": [
    "### Reading .raw file\n",
    "\n",
    "Steps Involved:\n",
    "\n",
    "1. First set the *montage* for the EEG waveform. The montage that we used is 'GSN-HydroCel-128'. More montages can be found in this [location](https://mne.tools/stable/generated/mne.channels.make_standard_montage.html#mne.channels.make_standard_montage)\n",
    "2. Read the EEG signal for a single patient through read_raw_egi function. We used this function because the signal is extracted from EGI based system\n",
    "3. We are going to delete reference electrode 'E129' as it doesn't have any significance"
   ]
  },
  {
   "cell_type": "code",
   "execution_count": 31,
   "id": "38e631bb",
   "metadata": {},
   "outputs": [
    {
     "name": "stdout",
     "output_type": "stream",
     "text": [
      "Creating RawArray with float64 data, n_channels=128, n_times=1\n",
      "    Range : 0 ... 0 =      0.000 ...     0.000 secs\n",
      "Ready.\n"
     ]
    },
    {
     "data": {
      "image/png": "[encoded data removed]",
      "text/plain": [
       "<Figure size 432x432 with 1 Axes>"
      ]
     },
     "metadata": {},
     "output_type": "display_data"
    }
   ],
   "source": [
    "#Function to import the dataset, make some cleanups and return the data\n",
    "montage = mne.channels.make_standard_montage('GSN-HydroCel-128')\n",
    "\n",
    "#Visualize the Montage positions\n",
    "fig = montage.plot(kind='3d',scale_factor = 10)"
   ]
  },
  {
   "cell_type": "code",
   "execution_count": null,
   "id": "0b0b2bff",
   "metadata": {},
   "outputs": [],
   "source": [
    "#Function to import the dataset, make some cleanups and return the data\n",
    "montage = mne.channels.make_standard_montage('GSN-HydroCel-128')\n",
    "\n",
    "def file_importer(path='/content/drive/Shareddrives/Panini-Anup-Aparna Capstone Drive/Primary Datasets/EEG data/56 patient dataset/EEG_128channels_ERP_lanzhou_2015/02010002erp 20150416 1131.raw',type =1):\n",
    "  \"\"\"\n",
    "  Inputs:\n",
    "  path = Location of the raw file\n",
    "  type = 1 / 0 indicating raw or mat format\n",
    "  Outputs:\n",
    "  Returns the .raw object for EEG\n",
    "  \"\"\"\n",
    "  if type == 1:\n",
    "    df = mne.io.read_raw_egi(path,verbose=True)\n",
    "    #Delete the bad signal that we identified\n",
    "    df.drop_channels('E129')\n",
    "    #Just set the montage - Though the research institution provided us the montage file, \n",
    "    #there are numerous challenges importing the file as the matlab native format is not set in the \n",
    "    #mne package. As a result, we will be utilizing make_standard_montage file present in the mne library -- \n",
    "    #As the machine that was used is related to 'GSN_HydroCel-129'. However, kindly ensure that we are \n",
    "    #deleting the dead signal E129\n",
    "  else:\n",
    "    ch_names = ['E'+str(i+1) for i in range(128)]\n",
    "    sampling_freq = 250\n",
    "    mat = scipy.io.loadmat(path)\n",
    "    key = list(mat.keys())\n",
    "    data = key[3]\n",
    "    a_mat = mat[data]\n",
    "    info = mne.create_info(ch_names= ch_names,\n",
    "                       ch_types='eeg', verbose=None,\n",
    "                       sfreq=sampling_freq)\n",
    "    df = mne.io.RawArray(a_mat[:-1,:], info)\n",
    "\n",
    "  df.set_montage(montage)\n",
    "  #df = df.pick_channels(ch_names = list(Electrode_map.values()))\n",
    "  df.plot_psd()\n",
    "  return df"
   ]
  },
  {
   "cell_type": "code",
   "execution_count": null,
   "id": "027cb4f7",
   "metadata": {},
   "outputs": [],
   "source": [
    "raw_erp = file_importer()"
   ]
  },
  {
   "cell_type": "code",
   "execution_count": null,
   "id": "851f976f",
   "metadata": {},
   "outputs": [],
   "source": [
    "#Sample Output\n",
    "raw_rest = file_importer('/content/drive/Shareddrives/Panini-Anup-Aparna Capstone Drive/Primary Datasets/EEG data/56 patient dataset/EEG_128channels_resting_lanzhou_2015/02010006rest 20150528 0928..mat',type = 0)"
   ]
  },
  {
   "cell_type": "markdown",
   "id": "5b508681",
   "metadata": {},
   "source": [
    "<b>Understanding output -</b>\n",
    "\n",
    "The file importer reads one file. The montage is set as we discussed in earlier sections. Post that, we plotted the Power spectral distribution for various signals. The top right side of the chart contains the electrode positions. One interesting thing to note is at 50Hz, 100Hz, 150Hz, there is a spike in Power. This is due to AC current in country where experiment is done - It is called Power Line Noise. There are various ways through which, we can eliminate this noise using Filters. While the various forms of filters are out of the discussion, we utilized a Band pass filter of 1-50Hz. That forms the next function"
   ]
  },
  {
   "cell_type": "markdown",
   "id": "6ebc466d",
   "metadata": {},
   "source": [
    "## Designing Band pass filter\n",
    "\n",
    "We will be using hamming window filter for the scope of this problem. The description for the filter design and variations can be seen in this [location](https://mne.tools/stable/auto_tutorials/preprocessing/25_background_filtering.html?highlight=filters)"
   ]
  },
  {
   "cell_type": "code",
   "execution_count": 34,
   "id": "4144a818",
   "metadata": {},
   "outputs": [
    {
     "name": "stdout",
     "output_type": "stream",
     "text": [
      "Initial Power distribution\n",
      "After filtering - Power distribution\n"
     ]
    },
    {
     "ename": "NameError",
     "evalue": "name 'raw_erp' is not defined",
     "output_type": "error",
     "traceback": [
      "\u001b[0;31m---------------------------------------------------------------------------\u001b[0m",
      "\u001b[0;31mNameError\u001b[0m                                 Traceback (most recent call last)",
      "\u001b[0;32m<ipython-input-34-5dfb910c785f>\u001b[0m in \u001b[0;36m<module>\u001b[0;34m\u001b[0m\n\u001b[1;32m     12\u001b[0m \u001b[0;31m#raw = file_importer()\u001b[0m\u001b[0;34m\u001b[0m\u001b[0;34m\u001b[0m\u001b[0;34m\u001b[0m\u001b[0m\n\u001b[1;32m     13\u001b[0m \u001b[0mprint\u001b[0m\u001b[0;34m(\u001b[0m\u001b[0;34m\"After filtering - Power distribution\"\u001b[0m\u001b[0;34m)\u001b[0m\u001b[0;34m\u001b[0m\u001b[0;34m\u001b[0m\u001b[0m\n\u001b[0;32m---> 14\u001b[0;31m \u001b[0mraw_trunct\u001b[0m \u001b[0;34m=\u001b[0m \u001b[0mraw_trunc\u001b[0m\u001b[0;34m(\u001b[0m\u001b[0mraw_erp\u001b[0m\u001b[0;34m)\u001b[0m\u001b[0;34m\u001b[0m\u001b[0;34m\u001b[0m\u001b[0m\n\u001b[0m\u001b[1;32m     15\u001b[0m \u001b[0mraw_trunct\u001b[0m\u001b[0;34m.\u001b[0m\u001b[0mplot_psd\u001b[0m\u001b[0;34m(\u001b[0m\u001b[0;34m)\u001b[0m\u001b[0;34m\u001b[0m\u001b[0;34m\u001b[0m\u001b[0m\n",
      "\u001b[0;31mNameError\u001b[0m: name 'raw_erp' is not defined"
     ]
    }
   ],
   "source": [
    "sampling_freq = 250\n",
    "# the EEG data were filtered (bandpass = 1–40 Hz) using a Hamming windowed Sinc FIR filter\n",
    "l_freq = 1\n",
    "h_freq = 40\n",
    "# Applying filters\n",
    "def raw_trunc(simulated_raw):\n",
    "  simulated_raw =simulated_raw.copy().load_data()\n",
    "  simulated_raw_truc = simulated_raw.filter(l_freq,h_freq,method = 'fir',fir_window = 'hamming')\n",
    "  return simulated_raw_truc\n",
    "\n",
    "print(\"Initial Power distribution\")\n",
    "#raw = file_importer()\n",
    "print(\"After filtering - Power distribution\")\n",
    "raw_trunct = raw_trunc(raw_erp)\n",
    "raw_trunct.plot_psd()"
   ]
  },
  {
   "cell_type": "markdown",
   "id": "d31bea97",
   "metadata": {},
   "source": [
    "<b>Understanding ouput</b>: The first chart shows the power distribution for raw waveform. However, the second chart shows the smoothened components with signal tapering off post 50Hz. While we showed the implementation in MNE, we will be implementing the same filter using the statsmodel functionality as we need to convert our EEG waveform to numpy array for feature engineering"
   ]
  },
  {
   "cell_type": "code",
   "execution_count": null,
   "id": "a641141c",
   "metadata": {},
   "outputs": [],
   "source": [
    "def butter_bandpass_filter(data):\n",
    "  \"\"\"\n",
    "  Inputs :\n",
    "  data -Raw eeg data\n",
    "  lowcut-low pass frequency\n",
    "  highcut-high pass frequency\n",
    "  fs-sampling frequenct\n",
    "  Order - Order at which filter needs to be designed\n",
    "  Outputs:\n",
    "  y - Filtered signal\n",
    "  \"\"\"\n",
    "  fs = 256                                # Sampling rate (256 Hz)\n",
    "  eeg_bands = {'delta':(1,4),\n",
    "               'Theta': (4, 8),\n",
    "               'Alpha': (8, 12),\n",
    "               'Beta': (12, 30),\n",
    "               'Gamma': (30, 45),\n",
    "               'Normal':(0,40)}\n",
    "  # Get real amplitudes of FFT (only in postive frequencies)\n",
    "  fft_vals = np.absolute(np.fft.rfft(data))\n",
    "  # Get frequencies for amplitudes in Hz\n",
    "  fft_freq = np.fft.rfftfreq(len(data), 1.0/fs)\n",
    "\n",
    "  # Take the mean of the fft amplitude for each EEG band\n",
    "  eeg_band_mean = dict()\n",
    "  eeg_band_median = dict()\n",
    "  eeg_band_max = dict()\n",
    "  eeg_band_min = dict()\n",
    "  for band in eeg_bands:  \n",
    "      freq_ix = np.where((fft_freq >= eeg_bands[band][0]) & \n",
    "                        (fft_freq <= eeg_bands[band][1]))[0]\n",
    "      eeg_band_fft[band] = np.mean(fft_vals[freq_ix])\n",
    "      eeg_band_median[band] = np.median(fft_vals[freq_ix])\n",
    "      eeg_band_max[band] = np.max(fft_vals[freq_ix])\n",
    "      eeg_band_min[band] = np.min(fft_vals[freq_ix])\n",
    "\n",
    "  return eeg_band_mean,eeg_band_median,eeg_band_max,eeg_band_min"
   ]
  },
  {
   "cell_type": "markdown",
   "id": "f1e0f52d",
   "metadata": {},
   "source": [
    "## Feature Extraction - Linear Features\n",
    "\n",
    "Over the next module, we will be designing a simple function to extract the linear features of the EEG waveform. While the actual mathematical formulaes will not be comprehended for a data science practitioner, we will try to provide an intution on what these linear features mean\n",
    "\n",
    "1. Mean amplitude (peak to peak) of the power signal\n",
    "2. Median amplitude (peak to peak) of the power signal\n",
    "3. Maximum amplitude (peak to peak) of the power signal\n",
    "4. Minimum amplitude (peak to peak) of the power signal\n",
    "5. Power at alpha\n",
    "6. Power at beta\n",
    "7. Power at delta\n",
    "8. Power at theta\n",
    "\n",
    "While the top 4 features are pretty straight forward, initial research in the area mentioned that alpha, beta, delta, theta frequency power signals are different between the depression patients and others"
   ]
  },
  {
   "cell_type": "code",
   "execution_count": 37,
   "id": "06deb45e",
   "metadata": {},
   "outputs": [],
   "source": [
    "def signal_extractor(df,prefix):\n",
    "  \"\"\"\n",
    "  Input:\n",
    "  df - .raw object : EEG Waveform data\n",
    "  prefix - It is used to name the columns\n",
    "  Output:\n",
    "  returns 'result'. It is a pandas dataframe with dimensions 149*8 (128 electrodes\n",
    "  +21 event trigger stim channels (More details to follow) each having 8 features)\n",
    "  \"\"\"\n",
    "\n",
    "  d = df.get_data()  \n",
    "  ch_names = df.ch_names\n",
    "  val_dict = dict()\n",
    "  for i in np.arange(d.shape[0]):\n",
    "      data = d[i,:]\n",
    "      eeg_band_mean,eeg_band_median,eeg_band_max,eeg_band_min = butter_bandpass_filter(data)\n",
    "      mean = eeg_band_fft['Normal']\n",
    "      max = eeg_band_max['Normal']\n",
    "      min = eeg_band_min['Normal']\n",
    "      median = eeg_band_median['Normal']\n",
    "      alpha = eeg_band_fft['Alpha']\n",
    "      beta = eeg_band_fft['Beta']\n",
    "      delta = eeg_band_fft['delta']\n",
    "      theta = eeg_band_fft['Theta']\n",
    "      objects = [alpha, beta, delta,theta,mean,max,min,median]\n",
    "      val_dict[ch_names[i]] = objects\n",
    "  result = pd.DataFrame(val_dict).T\n",
    "  result.columns = ['lf_alpha_'+prefix,'lf_beta_'+prefix,'lf_delta_'+prefix,'lf_theta_'+prefix,'lf_mean_'+prefix,'lf_max_'+prefix,'lf_min_'+prefix,'lf_median_'+prefix]\n",
    "  return result"
   ]
  },
  {
   "cell_type": "code",
   "execution_count": null,
   "id": "d822c103",
   "metadata": {},
   "outputs": [],
   "source": [
    "signal_extractor(raw_erp,'one_pat').head()"
   ]
  },
  {
   "cell_type": "markdown",
   "id": "1cc4c896",
   "metadata": {},
   "source": [
    "## Feature Extraction - Non Linear Features\n",
    "\n",
    "The nonlinear features Singular-value deposition entropy\n",
    "(SVDen) and Spectral entropy. They define the information loss in the given signal. There are various other entropy forms. However, due to limitations with the infrastructure we are going ahead with these two forms of entropy only"
   ]
  },
  {
   "cell_type": "code",
   "execution_count": null,
   "id": "5302433d",
   "metadata": {},
   "outputs": [],
   "source": [
    "#Non Linear Features\n",
    "def nli_features(df,prefix):\n",
    "  \"\"\"\n",
    "  Input:\n",
    "  df - .raw object : EEG Waveform data\n",
    "  prefix - It is used to name the columns\n",
    "  Output:\n",
    "  returns 'result'. It is a pandas dataframe with dimensions 149*2 (128 electrodes\n",
    "  +21 event trigger stim channels (More details to follow) each having 2 features)\n",
    "  \"\"\"\n",
    "  ch_names = df.ch_names\n",
    "  val_dict = dict()\n",
    "  overall = raw_trunc(df.copy())\n",
    "  d = overall.get_data()  \n",
    "  # Extract Non Linear features\n",
    "  for i in range(d.shape[0]):\n",
    "    signal = d[i,:]\n",
    "    svd_entropy = ant.svd_entropy(signal, normalize=True)\n",
    "    spectral_entropy = ant.spectral_entropy(signal, sf=250, method='welch', normalize=True)\n",
    "    perm_entropy = ant.perm_entropy(d[i,:], normalize=True)\n",
    "    #app_entropy = ant.app_entropy(d[i,:])\n",
    "    #sample_entropy = ant.sample_entropy(d[i,:])\n",
    "    \n",
    "    #objects = [svd_entropy,spectral_entropy,perm_entropy,app_entropy,sample_entropy]\n",
    "    objects = [svd_entropy,spectral_entropy,perm_entropy]\n",
    "    val_dict[ch_names[i]] = objects\n",
    "  result = pd.DataFrame(val_dict).T\n",
    "  #result.columns = ['nl_svden_'+prefix,'nl_spec_en'+prefix,'nl_permen'+prefix,'nl_appen'+prefix,'nl_sampen'+prefix]\n",
    "  result.columns = ['nl_svden_'+prefix,'nl_spec_en'+prefix,'nl_permen'+prefix]\n",
    "  return result  "
   ]
  },
  {
   "cell_type": "code",
   "execution_count": null,
   "id": "188f8ba7",
   "metadata": {},
   "outputs": [],
   "source": [
    "#Sample output\n",
    "nli_features(raw,'one_pat').head()"
   ]
  },
  {
   "cell_type": "markdown",
   "id": "7bf75b35",
   "metadata": {},
   "source": [
    "## Preprocessing filters and checks\n",
    "\n",
    "1. Earlier researchers in this area picked 16 electrodes each belonging to a different location of the brain and suggest that they are representative of the entire eeg waveform. We will also pick those 16 electrodes. We will use universal 10-10 encoding of the channels to identify the 16 electrodes. This drastically reduces the dimensions from 128 to 16 channels"
   ]
  },
  {
   "cell_type": "code",
   "execution_count": 39,
   "id": "2c4ee52e",
   "metadata": {},
   "outputs": [
    {
     "data": {
      "text/plain": [
       "['E36',\n",
       " 'E104',\n",
       " 'E24',\n",
       " 'E124',\n",
       " 'E33',\n",
       " 'E122',\n",
       " 'E22',\n",
       " 'E9',\n",
       " 'E70',\n",
       " 'E83',\n",
       " 'E52',\n",
       " 'E92',\n",
       " 'E45',\n",
       " 'E108',\n",
       " 'E58',\n",
       " 'E96']"
      ]
     },
     "execution_count": 39,
     "metadata": {},
     "output_type": "execute_result"
    }
   ],
   "source": [
    "#Electrodes to be considered -\n",
    "#Source - https://www.egi.com/images/HydroCelGSN_10-10.pdf\n",
    "\n",
    "Electrode_map = {'C3':'E36','C4':'E104','F3':'E24','F4':'E124','F7':'E33','F8':'E122',\n",
    "                 'FP1':'E22','FP2':'E9','O1':'E70','O2':'E83','P3':'E52','P4':'E92',\n",
    "                 'T3-T7':'E45','T4-T8':'E108','T5-P7':'E58','T6-P8':'E96'}\n",
    "\n",
    "#Electrodes to pick\n",
    "list(Electrode_map.values())"
   ]
  },
  {
   "cell_type": "markdown",
   "id": "89a5189f",
   "metadata": {},
   "source": [
    "2. The Activity data is a simulated experiment. The experiment sequence is as follows - \n",
    "\n",
    "The task consisted of three blocks (Fear-Neutral, Sad-Neutral, and Happy-Neutral), and each block had 160 trials. At the beginning of each trial, a fixed white cross appeared on the central screen at 300 ms and lasted for 300 ms from the start. Then, the cross was presented on the screen centrally on the screen throughout the experiment. The emotional-neutral face stimuli pair was presented on the screen as a cue for 500 ms, the pair was arranged in a pseudo-random order. After a short\n",
    "interval from 100–300 ms, the dot-probe appeared randomly as a target on the left or right position of the fixed cross for 150 ms. Concurrently, the participant was asked to identify the spatial location of the ‘dot’ and to record their response by pressing the button ‘1’ or ‘4’ on the reaction box with their index fingers as quickly as possible. If the dot appeared to the left of the fixation cross, the subject should press ‘1’; if the dot appeared to the right of the fixation cross, the subject should press ‘4’. An automatic interval of 2000 ms was used to receive the response of the participant; otherwise, the participant would be directed into the subsequent trial that was followed by a black screen presented for 600 ms. The procedure continued gradually until a block was completed. Each block was also run in a cycle manner until the entire task was finished. The whole experimental task was completed in about 25 min. The trial sequence of the dot-probe task is illustrated\n",
    "\n",
    "![Sequences](https://drive.google.com/uc?export=view&id=16EkiyDFXzDSkAIIvoLsExvN93LSKeaKs)\n",
    "\n",
    "They are stored in series of stim channels -\n",
    "\n",
    "![Channels](https://drive.google.com/uc?export=view&id=1EmoaTnFDIJz_tf25GPkY_19Hm2DGRH9U)"
   ]
  },
  {
   "cell_type": "code",
   "execution_count": 41,
   "id": "ec4831ab",
   "metadata": {},
   "outputs": [
    {
     "ename": "NameError",
     "evalue": "name 'raw' is not defined",
     "output_type": "error",
     "traceback": [
      "\u001b[0;31m---------------------------------------------------------------------------\u001b[0m",
      "\u001b[0;31mNameError\u001b[0m                                 Traceback (most recent call last)",
      "\u001b[0;32m<ipython-input-41-754268694699>\u001b[0m in \u001b[0;36m<module>\u001b[0;34m\u001b[0m\n\u001b[1;32m      1\u001b[0m \u001b[0;31m#We can visualize them here -\u001b[0m\u001b[0;34m\u001b[0m\u001b[0;34m\u001b[0m\u001b[0;34m\u001b[0m\u001b[0m\n\u001b[1;32m      2\u001b[0m \u001b[0;34m\u001b[0m\u001b[0m\n\u001b[0;32m----> 3\u001b[0;31m \u001b[0mraw\u001b[0m\u001b[0;34m.\u001b[0m\u001b[0mcopy\u001b[0m\u001b[0;34m(\u001b[0m\u001b[0;34m)\u001b[0m\u001b[0;34m.\u001b[0m\u001b[0mpick_types\u001b[0m\u001b[0;34m(\u001b[0m\u001b[0mmeg\u001b[0m\u001b[0;34m=\u001b[0m\u001b[0;32mFalse\u001b[0m\u001b[0;34m,\u001b[0m \u001b[0mstim\u001b[0m\u001b[0;34m=\u001b[0m\u001b[0;32mTrue\u001b[0m\u001b[0;34m)\u001b[0m\u001b[0;34m.\u001b[0m\u001b[0mplot\u001b[0m\u001b[0;34m(\u001b[0m\u001b[0mstart\u001b[0m\u001b[0;34m=\u001b[0m\u001b[0;36m0\u001b[0m\u001b[0;34m,\u001b[0m \u001b[0mduration\u001b[0m\u001b[0;34m=\u001b[0m\u001b[0;36m6\u001b[0m\u001b[0;34m)\u001b[0m\u001b[0;34m\u001b[0m\u001b[0;34m\u001b[0m\u001b[0m\n\u001b[0m",
      "\u001b[0;31mNameError\u001b[0m: name 'raw' is not defined"
     ]
    }
   ],
   "source": [
    "#We can visualize them here -\n",
    "\n",
    "raw.copy().pick_types(meg=False, stim=True).plot(start=0, duration=6)"
   ]
  },
  {
   "cell_type": "markdown",
   "id": "b4a04f6b",
   "metadata": {},
   "source": [
    "We see that the sequence started with Fear-neutral images. However, we faced one key challenge in processing this information in MNE. MNE is not able to read the events properly as there are overlapping events between various channels. This is resulting in erroneous results\n",
    "\n",
    "We mitigate this issue by truncating the signal into 'Happy','Sad' and 'Fear' waveforms. It is essentially division of the waveform into 3 different waveforms by looking into the sequence of the events"
   ]
  },
  {
   "cell_type": "code",
   "execution_count": null,
   "id": "9832a77d",
   "metadata": {},
   "outputs": [],
   "source": [
    "def channel_explorer(df):\n",
    "  \"\"\"\n",
    "  Input\n",
    "  df - EEG Waveform from the simulated experiment\n",
    "  Output\n",
    "  returns -\n",
    "  Happy waveform, Sad waveform, Fear waveform \n",
    "  as a tuple\n",
    "  \"\"\"\n",
    "  #Select only the STIM channels (channels that stores impulses)\n",
    "  list_channels = df.copy().pick_types(meg=False, stim=True).ch_names\n",
    "  #Get the data in numpy format\n",
    "  temp = pd.DataFrame(df.copy().pick_types(meg=False, stim=True).get_data().T)\n",
    "  #Set the column names as per the incoming electrode positions\n",
    "  temp.columns = list_channels\n",
    "  temp.reset_index(inplace = True)\n",
    "\n",
    "  #initialization\n",
    "  df_happy = pd.DataFrame()\n",
    "  df_sad = pd.DataFrame()\n",
    "  df_fear = pd.DataFrame()\n",
    "\n",
    "  #Loop to go through each emotion and output the values\n",
    "  for col in temp.columns:\n",
    "    if col!='index':\n",
    "      if col in ['fcue', 'fdot','ffix', 'fisi', 'fwrp']:\n",
    "        te = pd.DataFrame(temp[temp[col]==1].agg({'index':['max','min']}))\n",
    "        te.columns = [col]\n",
    "        df_fear = pd.concat([df_fear,te],axis = 1)\n",
    "      if col in ['hcue', 'hdot', 'hfix', 'hisi', 'hwrp']:\n",
    "        te = pd.DataFrame(temp[temp[col]==1].agg({'index':['max','min']}))\n",
    "        te.columns = [col]\n",
    "        df_happy = pd.concat([df_happy,te],axis = 1)\n",
    "      if col in ['scue', 'sdot', 'sfix', 'sisi', 'swrp']:\n",
    "        te = pd.DataFrame(temp[temp[col]==1].agg({'index':['max','min']}))\n",
    "        te.columns = [col]\n",
    "        df_sad = pd.concat([df_sad,te],axis = 1)\n",
    "  event_dict = {'fear':(np.min(df_fear,axis = 1)[1],np.max(df_fear,axis = 1)[0]),\n",
    "                'sad':(np.min(df_sad,axis = 1)[1],np.max(df_sad,axis = 1)[0]),\n",
    "                'happy':(np.min(df_happy,axis = 1)[1],np.max(df_happy,axis = 1)[0])}\n",
    "  print(event_dict)\n",
    "  #Check for sequence\n",
    "  sequence_order = np.argsort([i[0] for i in list(event_dict.values())])\n",
    "  vals = list(event_dict.keys())\n",
    "  sequence = [vals[i] for i in sequence_order]\n",
    "  print(sequence)\n",
    "  print(event_dict[sequence[0]][1])\n",
    "  print(event_dict[sequence[1]][0])\n",
    "  print(event_dict[sequence[1]][1])\n",
    "  print(event_dict[sequence[2]][0])\n",
    "  #Check for overlaps\n",
    "  val = 0\n",
    "  if (event_dict[sequence[0]][1]>event_dict[sequence[1]][0]) or (event_dict[sequence[1]][1]>event_dict[sequence[2]][0]):\n",
    "    val = 1\n",
    "    print(\"Problem with event spacings - Kindly check\")\n",
    "  fear_raw = df.copy().crop(tmin=event_dict['fear'][0]/250,tmax=event_dict['fear'][1]/250)\n",
    "  happy_raw = df.copy().crop(tmin=event_dict['happy'][0]/250,tmax=event_dict['happy'][1]/250)\n",
    "  sad_raw = df.copy().crop(tmin=event_dict['sad'][0]/250,tmax=event_dict['sad'][1]/250)\n",
    "  return fear_raw,happy_raw,sad_raw      "
   ]
  },
  {
   "cell_type": "markdown",
   "id": "608e4c80",
   "metadata": {},
   "source": [
    "# Data Cleansing\n",
    "\n",
    "Here we will read all the 58 patients data pass through various utility functions and output a unified dataframe. We filter the electrode positions also as we discussed above"
   ]
  },
  {
   "cell_type": "code",
   "execution_count": 43,
   "id": "308434a4",
   "metadata": {},
   "outputs": [],
   "source": [
    "final_patient_df = pd.DataFrame()\n",
    "\n",
    "for root, dirs, files in os.walk(\"/content/drive/Shareddrives/Panini-Anup-Aparna Capstone Drive/Primary Datasets/EEG data/56 patient dataset/EEG_128channels_ERP_lanzhou_2015\"):\n",
    "  folder = \"/content/drive/Shareddrives/Panini-Anup-Aparna Capstone Drive/Primary Datasets/EEG data/56 patient dataset/EEG_128channels_ERP_lanzhou_2015\"\n",
    "  for index, file in enumerate(files):\n",
    "      if file[-3:]=='raw':\n",
    "        print(\"File name \",file,\"Position \",index)\n",
    "        fin = str(folder)+\"/\"+str(file)\n",
    "        df = file_importer(fin)\n",
    "        fear,happy,sad = channel_explorer(df)\n",
    "        lf_psd_params = pd.concat([signal_extractor(fear,'fear'),signal_extractor(happy,'happy'),signal_extractor(sad,'sad')],axis=1)\n",
    "        nlf_psd_params = pd.concat([nli_features(fear,'fear'),nli_features(happy,'happy'),nli_features(sad,'sad')],axis = 1)\n",
    "        result = pd.concat([lf_psd_params,nlf_psd_params],axis = 1)\n",
    "        print(result.head())\n",
    "        result = result[result.index.isin(list(Electrode_map.values()))]\n",
    "        result_single_row = pd.DataFrame()\n",
    "        for i in list(Electrode_map.values()):\n",
    "          temp = pd.DataFrame(result[result.index == i].values)\n",
    "          temp.columns = [j+'_'+i for j in result.columns]\n",
    "          result_single_row = pd.concat([result_single_row,temp],axis = 1) \n",
    "        result_single_row['patient_identifier'] = file\n",
    "        final_patient_df = pd.concat([final_patient_df,result_single_row],axis = 0)\n",
    "        del df\n"
   ]
  },
  {
   "cell_type": "code",
   "execution_count": 44,
   "id": "85178733",
   "metadata": {},
   "outputs": [],
   "source": [
    "final_patient_resting = pd.DataFrame()\n",
    "\n",
    "for root, dirs, files in os.walk(\"/content/drive/Shareddrives/Panini-Anup-Aparna Capstone Drive/Primary Datasets/EEG data/56 patient dataset/EEG_128channels_resting_lanzhou_2015\"):\n",
    "  folder = \"/content/drive/Shareddrives/Panini-Anup-Aparna Capstone Drive/Primary Datasets/EEG data/56 patient dataset/EEG_128channels_resting_lanzhou_2015\"\n",
    "  for index, file in enumerate(files):\n",
    "      if file[-3:]=='mat':\n",
    "        print(\"File name \",file,\"Position \",index)\n",
    "        fin = str(folder)+\"/\"+str(file)\n",
    "        df = file_importer(path=fin,type =0)\n",
    "        lf_psd_params = signal_extractor(df,'resting')\n",
    "        nlf_psd_params = nli_features(df,'resting')\n",
    "        result = pd.concat([lf_psd_params,nlf_psd_params],axis = 1)\n",
    "        result = result[result.index.isin(list(Electrode_map.values()))]\n",
    "        result_single_row = pd.DataFrame()\n",
    "        for i in list(Electrode_map.values()):\n",
    "          temp = pd.DataFrame(result[result.index == i].values)\n",
    "          temp.columns = [j+'_'+i for j in result.columns]\n",
    "          result_single_row = pd.concat([result_single_row,temp],axis = 1) \n",
    "        result_single_row['patient_identifier'] = file\n",
    "        final_patient_resting = pd.concat([final_patient_resting,result_single_row],axis = 0)\n",
    "        del df"
   ]
  },
  {
   "cell_type": "markdown",
   "id": "263cf318",
   "metadata": {},
   "source": [
    "# Conclusion (Part1)\n",
    "\n",
    "In this notebook, we learned how to visualize the EEG waveform, implement filters and construct a combined dataframe for further exploration. We will not further explore the attributes that differentiate a MDD patient with normal cases in "
   ]
  },
  {
   "cell_type": "code",
   "execution_count": null,
   "id": "6cabdb62",
   "metadata": {},
   "outputs": [],
   "source": []
  }
 ],
 "metadata": {
  "kernelspec": {
   "display_name": "conda_python3",
   "language": "python",
   "name": "conda_python3"
  },
  "language_info": {
   "codemirror_mode": {
    "name": "ipython",
    "version": 3
   },
   "file_extension": ".py",
   "mimetype": "text/x-python",
   "name": "python",
   "nbconvert_exporter": "python",
   "pygments_lexer": "ipython3",
   "version": "3.6.13"
  },
  "toc-autonumbering": true,
  "toc-showmarkdowntxt": true
 },
 "nbformat": 4,
 "nbformat_minor": 5
}
